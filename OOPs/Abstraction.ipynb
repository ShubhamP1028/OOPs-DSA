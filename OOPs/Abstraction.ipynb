{
 "cells": [
  {
   "cell_type": "markdown",
   "id": "2d4c3b52",
   "metadata": {},
   "source": [
    "<h3><center><b>Data Abstraction</b></center></h3>\n",
    "\n",
    "Data abstraction means showing only the essential features and hiding the complex internal details.\n",
    "\n",
    "Technically, in Python abstraction is used to hide the implementation details from the user and expose only necessary parts, making the code simpler and easier to interact with.\n",
    "\n",
    "<b>Why do we need Data Abstraction?</b>\n",
    "* It hides internal logic and only shows the necessary details, making it easier to use complex systems.\n",
    "* Sensitive or unnecessary details are not exposed, reducing chances of misuse or accidental changes.\n",
    "* Users can focus on what the object does instead of how it does it.\n",
    "* Internal changes don’t affect external code, making it easier to update or modify code components."
   ]
  },
  {
   "cell_type": "markdown",
   "id": "c45ef33c",
   "metadata": {},
   "source": [
    "<b>Abstract Base Class</b>\n",
    "\n",
    "In Python, an Abstract Base Class (ABC) is used to achieve data abstraction by defining a common interface for its subclasses. It cannot be instantiated directly and serves as a blueprint for other classes.\n",
    "\n",
    "Abstract classes are created using abc module and @abstractmethod decorator, allowing developers to enforce method implementation in subclasses while hiding complex internal logic.\n",
    "\n",
    "<h4>Components of Abstraction</h4>\n",
    "\n",
    "* <b>Abstract Method</b> : Abstract methods are method declarations without a body defined inside an abstract class. They act as placeholders that force subclasses to provide their own specific implementation, ensuring consistent structure across derived classes.\n",
    "* <b>Concrete Method</b>: Concrete methods are fully implemented methods within an abstract class. Subclasses can inherit and use them directly, promoting code reuse without needing to redefine common functionality.\n",
    "* <b>Abstract Properties</b> : Abstract properties work like abstract methods but are used for properties. These properties are declared with @property decorator and marked as abstract using @abstractmethod. Subclasses must implement these properties.\n",
    "* <b>Abstract Class Instantiation</b> :Abstract classes cannot be instantiated directly. This is because they contain one or more abstract methods or properties that lack implementations. Attempting to instantiate an abstract class results in a TypeError.\n",
    "\n"
   ]
  },
  {
   "cell_type": "markdown",
   "id": "4ce7b494",
   "metadata": {},
   "source": [
    "#### Abstraction Base Class"
   ]
  },
  {
   "cell_type": "code",
   "execution_count": 5,
   "id": "21910959",
   "metadata": {},
   "outputs": [],
   "source": [
    "from abc import ABC, abstractmethod\n",
    "\n",
    "class Shape(ABC):  # Inheriting from ABC makes it an abstract base class\n",
    "    @abstractmethod\n",
    "    def area(self):\n",
    "        pass\n",
    "\n",
    "    @abstractmethod\n",
    "    def perimeter(self):\n",
    "        pass"
   ]
  },
  {
   "cell_type": "markdown",
   "id": "f4f86d5d",
   "metadata": {},
   "source": [
    "#### Abstract Method"
   ]
  },
  {
   "cell_type": "code",
   "execution_count": 6,
   "id": "fc17be54",
   "metadata": {},
   "outputs": [],
   "source": [
    "from abc import ABC, abstractmethod\n",
    "\n",
    "class Vehicle(ABC):\n",
    "    @abstractmethod\n",
    "    def start(self):  # This is an abstract method\n",
    "        pass"
   ]
  },
  {
   "cell_type": "markdown",
   "id": "429803b8",
   "metadata": {},
   "source": [
    "#### Concrete Method"
   ]
  },
  {
   "cell_type": "code",
   "execution_count": 7,
   "id": "ea1a1f38",
   "metadata": {},
   "outputs": [],
   "source": [
    "from abc import ABC, abstractmethod\n",
    "\n",
    "class Animal(ABC):\n",
    "    def speak(self):  # This is a concrete method\n",
    "        print(\"Generic animal sound\")\n",
    "\n",
    "    @abstractmethod\n",
    "    def move(self):\n",
    "        pass"
   ]
  },
  {
   "cell_type": "markdown",
   "id": "0eae71ed",
   "metadata": {},
   "source": [
    "#### Abstract Properties"
   ]
  },
  {
   "cell_type": "code",
   "execution_count": 8,
   "id": "b1f6f47c",
   "metadata": {},
   "outputs": [],
   "source": [
    "from abc import ABC, abstractmethod\n",
    "\n",
    "class Product(ABC):\n",
    "    @property\n",
    "    @abstractmethod\n",
    "    def price(self):  # This is an abstract property\n",
    "        pass\n",
    "\n",
    "    @price.setter\n",
    "    @abstractmethod\n",
    "    def price(self, value):\n",
    "        pass"
   ]
  },
  {
   "cell_type": "markdown",
   "id": "e5ec29b9",
   "metadata": {},
   "source": [
    "#### Abstract Class"
   ]
  },
  {
   "cell_type": "code",
   "execution_count": null,
   "id": "00cbc080",
   "metadata": {},
   "outputs": [
    {
     "name": "stdout",
     "output_type": "stream",
     "text": [
      "Error: Can't instantiate abstract class MyAbstractClass without an implementation for abstract method 'my_abstract_method'\n"
     ]
    }
   ],
   "source": [
    "from abc import ABC, abstractmethod\n",
    "\n",
    "class MyAbstractClass(ABC):\n",
    "    @abstractmethod\n",
    "    def my_abstract_method(self):\n",
    "        pass\n",
    "\n",
    "# Attempting to instantiate an abstract class will raise an error\n",
    "try:\n",
    "    obj = MyAbstractClass()\n",
    "except TypeError as e:\n",
    "    print(f\"Error: {e}\")\n",
    "\n",
    "# To use an abstract class, a concrete subclass must be created and instantiated\n",
    "class MyConcreteClass(MyAbstractClass):\n",
    "    def my_abstract_method(self):\n",
    "        print(\"Implementation of abstract method\")\n",
    "\n",
    "concrete_obj = MyConcreteClass()\n",
    "concrete_obj.my_abstract_method()"
   ]
  },
  {
   "cell_type": "code",
   "execution_count": null,
   "id": "67917910",
   "metadata": {},
   "outputs": [],
   "source": []
  }
 ],
 "metadata": {
  "kernelspec": {
   "display_name": "Python 3",
   "language": "python",
   "name": "python3"
  },
  "language_info": {
   "codemirror_mode": {
    "name": "ipython",
    "version": 3
   },
   "file_extension": ".py",
   "mimetype": "text/x-python",
   "name": "python",
   "nbconvert_exporter": "python",
   "pygments_lexer": "ipython3",
   "version": "3.12.7"
  }
 },
 "nbformat": 4,
 "nbformat_minor": 5
}
