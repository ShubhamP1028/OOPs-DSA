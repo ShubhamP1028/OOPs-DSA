{
 "cells": [
  {
   "cell_type": "code",
   "execution_count": 1,
   "id": "c1a451b9",
   "metadata": {},
   "outputs": [],
   "source": [
    "class Atm:\n",
    "    def __init__(self, balance=0, pin=\"\"): \n",
    "        self.__balance = balance\n",
    "        self.pin = pin\n",
    "        print(\"Welcome to the ATM\")\n",
    "        self.menu()\n",
    "        # Private attribute\n",
    "    def menu(self):\n",
    "        print(\"1. Deposit\")\n",
    "        print(\"2. Withdraw\")\n",
    "        print(\"3. Check Balance\")\n",
    "        print(\"4. Create/Update Pin\")\n",
    "        print(\"5. Exit\")\n",
    "\n",
    "        user_input = int(input(\"Enter the number for your option: \"))\n",
    "        if user_input == 1:\n",
    "            amount = float(input(\"Enter amount to deposit: \"))\n",
    "            self.deposit(amount)\n",
    "            self.menu()\n",
    "        elif user_input == 2:\n",
    "            amount = float(input(\"Enter amount to withdraw: \"))\n",
    "            self.withdraw(amount)\n",
    "            self.menu()\n",
    "        elif user_input == 3:\n",
    "            print(f\"Your balance is: {self.get_balance()}\")\n",
    "            self.menu()\n",
    "        elif user_input == 4:\n",
    "            new_pin = input(\"Enter new PIN: \")\n",
    "            self.update_pin(new_pin)\n",
    "            self.menu()\n",
    "        elif user_input == 5:\n",
    "            print(\"Thank you for using the ATM. Have a Goodday!\")\n",
    "        else:\n",
    "            print(\"Invalid option. Please try again.\")\n",
    "            self.menu()\n",
    "\n",
    "    def update_pin(self, new_pin):\n",
    "        self.pin = new_pin\n",
    "        print(\"PIN updated successfully.\")\n",
    "    def check_pin(self, temp):\n",
    "        if temp != self.pin:\n",
    "            print(\"Incorrect PIN. Transaction cancelled.\")\n",
    "            return False\n",
    "        return True\n",
    "    def deposit(self, amount):\n",
    "        if amount > 0:\n",
    "            self.__balance += amount\n",
    "            print(f\"Deposited: {amount}\")\n",
    "        else:\n",
    "            print(\"Deposit amount must be positive.\")\n",
    "\n",
    "    def withdraw(self, amount):\n",
    "        temp = input(\"Enter your PIN: \")\n",
    "        self.check_pin(temp)        \n",
    "        if 0 < amount <= self.__balance:\n",
    "            self.__balance -= amount\n",
    "            print(f\"Withdrawn: {amount}\")\n",
    "        else:\n",
    "            print(\"Insufficient funds or invalid withdrawal amount.\")\n",
    "\n",
    "    def get_balance(self):\n",
    "        temp = input(\"Enter your PIN: \")\n",
    "        self.check_pin(temp)\n",
    "        \n",
    "        return self.__balance"
   ]
  },
  {
   "cell_type": "code",
   "execution_count": 3,
   "id": "b85c869f",
   "metadata": {},
   "outputs": [
    {
     "name": "stdout",
     "output_type": "stream",
     "text": [
      "Welcome to the ATM\n",
      "1. Deposit\n",
      "2. Withdraw\n",
      "3. Check Balance\n",
      "4. Create/Update Pin\n",
      "5. Exit\n",
      "Withdrawn: 100.0\n",
      "1. Deposit\n",
      "2. Withdraw\n",
      "3. Check Balance\n",
      "4. Create/Update Pin\n",
      "5. Exit\n",
      "Your balance is: 900.0\n",
      "1. Deposit\n",
      "2. Withdraw\n",
      "3. Check Balance\n",
      "4. Create/Update Pin\n",
      "5. Exit\n",
      "Thank you for using the ATM. Have a Goodday!\n"
     ]
    }
   ],
   "source": [
    "sbi = Atm(1000, \"1234\")  # Initializing ATM with balance and PIN"
   ]
  },
  {
   "cell_type": "code",
   "execution_count": null,
   "id": "d4087a2c",
   "metadata": {},
   "outputs": [],
   "source": []
  }
 ],
 "metadata": {
  "kernelspec": {
   "display_name": "Python 3",
   "language": "python",
   "name": "python3"
  },
  "language_info": {
   "codemirror_mode": {
    "name": "ipython",
    "version": 3
   },
   "file_extension": ".py",
   "mimetype": "text/x-python",
   "name": "python",
   "nbconvert_exporter": "python",
   "pygments_lexer": "ipython3",
   "version": "3.12.7"
  }
 },
 "nbformat": 4,
 "nbformat_minor": 5
}
