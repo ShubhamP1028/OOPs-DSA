{
 "cells": [
  {
   "cell_type": "markdown",
   "id": "09c9d96b",
   "metadata": {},
   "source": [
    "<h3><center>Getter and Setter Methods</center></h3>\n",
    "\n",
    "In Python, getter and setter methods are used to access and modify private attributes safely. Instead of accessing private data directly, these methods provide controlled access, allowing you to:\n",
    "\n",
    "Read data using a getter method.\n",
    "Update data using a setter method with optional validation or restrictions."
   ]
  },
  {
   "cell_type": "code",
   "execution_count": 2,
   "id": "1c972f6e",
   "metadata": {},
   "outputs": [
    {
     "name": "stdout",
     "output_type": "stream",
     "text": [
      "50000\n",
      "updated :  60000\n"
     ]
    }
   ],
   "source": [
    "class Employee:\n",
    "    def __init__(self):\n",
    "        self.__salary = 50000  # Private attribute\n",
    "\n",
    "    def get_salary(self):    # Getter method\n",
    "        return self.__salary\n",
    "\n",
    "    def set_salary(self, amount):   # Setter method\n",
    "        if amount > 0:\n",
    "            self.__salary = amount\n",
    "        else:\n",
    "            print(\"Invalid salary amount!\")\n",
    "\n",
    "emp = Employee()\n",
    "print(emp.get_salary())  # Access salary using getter\n",
    "\n",
    "emp.set_salary(60000)   # Update salary using setter\n",
    "print('updated : ', emp.get_salary())"
   ]
  },
  {
   "cell_type": "code",
   "execution_count": null,
   "id": "33f98768",
   "metadata": {},
   "outputs": [],
   "source": []
  }
 ],
 "metadata": {
  "kernelspec": {
   "display_name": "Python 3",
   "language": "python",
   "name": "python3"
  },
  "language_info": {
   "codemirror_mode": {
    "name": "ipython",
    "version": 3
   },
   "file_extension": ".py",
   "mimetype": "text/x-python",
   "name": "python",
   "nbconvert_exporter": "python",
   "pygments_lexer": "ipython3",
   "version": "3.12.7"
  }
 },
 "nbformat": 4,
 "nbformat_minor": 5
}
